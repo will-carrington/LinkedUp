{
  "nbformat": 4,
  "nbformat_minor": 0,
  "metadata": {
    "colab": {
      "name": "LinkedUP.ipynb",
      "provenance": []
    },
    "kernelspec": {
      "name": "python3",
      "display_name": "Python 3"
    },
    "language_info": {
      "name": "python"
    }
  },
  "cells": [
    {
      "cell_type": "code",
      "source": [
        "import pandas as pd \n",
        "import numpy as np \n",
        "import requests \n",
        "import time \n",
        "import bs4\n",
        "from bs4 import BeautifulSoup\n",
        "import random\n",
        "import re\n",
        "import sys\n",
        "from pprint import pprint"
      ],
      "metadata": {
        "id": "nP9QQdiTsSzg"
      },
      "execution_count": 1,
      "outputs": []
    },
    {
      "cell_type": "code",
      "source": [
        "cookies = {'li_sugr':'cfc80d3c-c7ed-4343-9f35-668ef98aaa46',\n",
        "'lang':'v=2&lang=en-us',\n",
        "'bcookie':'v=2&b975a7dd-de12-409c-8c1f-d98a16188d1a',\n",
        "'lang':'v=2&lang=en-us',\n",
        "'bscookie':'v=1&2022082314015401bfc4c3-2b0a-4499-8f26-a4b18c473773AQHSvya4bZKVcSt1ksvy6nYPppXB113j',\n",
        "'JSESSIONID':'ajax:2513176378079689584',\n",
        "'g_state':'{\"i_l\":0}',\n",
        "'JSESSIONID':'ajax:5759668338988416696',\n",
        "'AMCVS_14215E3D5995C57C0A495C55%40AdobeOrg':'1',\n",
        "'aam_uuid':'64930633856208904390928281265176296849',\n",
        "'fid':'AQERDPHPrDGP-gAAAYLLE3Bfx6jopTR54nHgeDW_jS3Q9CQUNICf7ntVVfRmVGnlQSQpeHZzAhT7Nw',\n",
        "'fcookie':'AQFwCvVPKSiG6wAAAYLLE4SNCJiucNxhKVS2gAcyhpLz9IM9-oNieId_Z7bZfHRk59eAFJsi7yEFYIcGxI8YKLENNxhDKMR5IQt1Iz004e9L0J7GVNUjcveRRQ0tRvi0mS1qYxGKw-6rm5sOsM8bhG77rbbxVugHCkTFq0HA_3Y6JVWJnJPJJyxqBdKtD_qmvNQNnC8FeghU9RQ5dIK0-Ugepqvxjhc-zTZ-0BqefvvlDDQDJbZrcsfOkzp0SpLwFGIZaWTPsJj0Mqz1KZOuHS9EqM1FaDoBuEToWRKo2+v0cG9YydrOBQUbweUjJb8hyrqfGX51Obs5pCI9xWFkHA==',\n",
        "'_gcl_au':'1.1.409479845.1661264217',\n",
        "'li_at':'AQEDATD4sygCTCkJAAABgssT33cAAAGC7yBjd00AOg6U8TzzK4wKRY1ONs-r7q66qGa-RBKpPoBFHbTCYomtRn6NsaLaOht7Qfimh4D_EW5EXfI6UNaRUUb2fLEjzS5XAL64wHIIA0EKRDptNbJ6X1ro',\n",
        "'liap':'TRUE',\n",
        "'timezone':'America/New_York',\n",
        "'li_theme':'light',\n",
        "'li_theme_set':'app',\n",
        "'AnalyticsSyncHistory':'AQJy67GvdnvVbgAAAYLLE-VKrqG3fbdEzkNNbswcNmH3x9noatW9BJxiIoV8DU9BesgtAs0XhNZylt4FDsVQyQ',\n",
        "'_guid':'176c1899-5671-497c-9028-bed9a5f7a03e',\n",
        "'lms_ads':'AQHkhHlDp4pzngAAAYLLE-WpiD-aCQ-Wst6Lv2WVYM-2jFvPrUdsV8KqsrM5SZfzsaNn_BzxpK7F4RmoyRQsikGAPYC4GLzT',\n",
        "'lms_analytics':'AQHkhHlDp4pzngAAAYLLE-WpiD-aCQ-Wst6Lv2WVYM-2jFvPrUdsV8KqsrM5SZfzsaNn_BzxpK7F4RmoyRQsikGAPYC4GLzT',\n",
        "'JSESSIONID':'ajax:8726047165709933526',\n",
        "'JSESSIONID':'ajax:0358864779123245005',\n",
        "'AMCV_14215E3D5995C57C0A495C55%40AdobeOrg':'-637568504%7CMCIDTS%7C19228%7CMCMID%7C65450865228212921720877856512285429338%7CMCAAMLH-1661957216%7C7%7CMCAAMB-1661957216%7C6G1ynYcLPuiQxYZrsz_pkqfLG9yMXBpb2zX5dvJdYQJzPXImdj0y%7CMCOPTOUT-1661359616s%7CNONE%7CvVersion%7C5.1.1%7CMCCIDH%7C564185841',\n",
        "'JSESSIONID':'ajax:0631989544755558957',\n",
        "'JSESSIONID':'ajax:8905700650821610056',\n",
        "'JSESSIONID':'ajax:8770767505471613011',\n",
        "'JSESSIONID':'ajax:0169058678081671622',\n",
        "'JSESSIONID':'ajax:3725388959336601485',\n",
        "'UserMatchHistory':'AQJHVTpg7ZRzqAAAAYLRNBLVC6BZaF6WXj7fZ_9e9jnJ95fqfEaSt2bvovA-Q8HIoRnSdpo50qSseLLV4_Bas76Cs95FbSJXC2FeMvH5onzdoBvt-k3oJ1Z5_WQkK9T27zGjLEKPOvLSWgTutoA2jPSAeB-sKXyoqW_IlZpVrfed7OBLy9eKdzI2pxxPZ8ftSYpNImIMqznRwFhq5ozlGCXC9nMsyOEFOdtHu1ONQGuupjsRjA0Lg3AaIeepPW06sRB6b_gm1qObAaDafady-D1Pqr9G0pdgafZtuUg',\n",
        "'lidc':'b=TB60:s=T:r=T:a=T:p=T:g=3183:u=284:x=1:i=1661367227:t=1661440772:v=2:sig=AQFPEJ1Xz6tnWp4eXggIH4768zDPLYp3'}"
      ],
      "metadata": {
        "id": "SbTQJ-vRRSc0"
      },
      "execution_count": 2,
      "outputs": []
    },
    {
      "cell_type": "code",
      "source": [
        "#upload company names\n",
        "dff = pd.read_csv('')\n",
        "dff.head(3)"
      ],
      "metadata": {
        "id": "fvnIypZL02Qf"
      },
      "execution_count": 2,
      "outputs": []
    },
    {
      "cell_type": "code",
      "source": [
        "#scale companies from a large list of contacts/names to prioritize outreach! (its a start)\n",
        "dff = pd.read_csv('/content/Shared_ Bradshaw Licensing Opportunities - Sheet24.csv')\n",
        "df = {'name':[],'employees':[],'followers':[],'description':[]}\n",
        "for xc in range(len(dff['Company'])):\n",
        "  company = dff['Company'][xc]\n",
        "  company = company.lower().replace(' ','+')\n",
        "  headers = {'User-Agent': 'Mozilla/5.0 (Macintosh; Intel Mac OS X 10_14_6) AppleWebKit/537.36 (KHTML, like Gecko) Chrome/99.0.4844.83 Safari/537.36'}\n",
        "  url_linked = 'https://www.google.com/search?q='+company+'+linkedin+page&oq=tractory+supply+linkedin+page'\n",
        "  html = requests.get(url_linked, headers = headers, cookies = cookies).text\n",
        "  soupcl = bs4.BeautifulSoup(html, \"html.parser\")\n",
        "  gg = str(soupcl).split('<div class=\"yuRUbf\">')\n",
        "  linked = []\n",
        "  for xx in range(len(gg)-1):\n",
        "    xx = xx+1\n",
        "    if gg[xx].split('href=\"')[1].split('/company')[0]=='https://www.linkedin.com':\n",
        "      while len(linked)<=0:\n",
        "        linked.append(gg[xx].split('href=\"')[1].split('\"')[0])\n",
        "  try:\n",
        "    urln = linked[0]\n",
        "    html = requests.get(urln, headers = headers, cookies = cookies).text\n",
        "    soupcn = bs4.BeautifulSoup(html, \"html.parser\")\n",
        "    namee = linked[0].split('company/')[1].split('-')[0][:1].upper()+linked[0].split('company/')[1].split('-')[0][1:]\n",
        "    cid = str(soupcn).split(',\"$type\":\"com.linkedin.common.VectorImage\"}},\"name\":\"'+namee)[1].split('urn:li:fsd_followingState:urn:li:fsd_company:')[1].split('\"')[0]\n",
        "    try:\n",
        "      follower_count = str(soupcn).split('\"preDashFollowingInfoUrn\":\"urn:li:fs_followingInfo:urn:li:company:'+cid)[1].split('\"followerCount\":')[1].split(',')[0]\n",
        "    except:\n",
        "      follower_count = 0\n",
        "\n",
        "    try:\n",
        "      employee_count = str(soupcn).split('\"url\":\"https://www.about'+linked[0].split('company/')[1]+'.com/\",')[0].split('\"employeeCount\":')[-1].split(',')[0]\n",
        "    except:\n",
        "      employee_count = 0\n",
        "\n",
        "    try:\n",
        "      description = str(soupcn).split('\"ALL_EMPLOYEES\"},\"croppedCoverImageUnion\":null,\"description\":\"')[1].split('\",\"')[0]\n",
        "    except:\n",
        "      description = 0\n",
        "    name = company\n",
        "    df['name'].append(company)\n",
        "    df['employees'].append(employee_count)\n",
        "    df['followers'].append(follower_count)\n",
        "    df['description'].append(description)\n",
        "    time.sleep(10)\n",
        "    time.sleep(random.uniform(1,3))\n",
        "  except:\n",
        "    print('error with '+company)\n",
        "\n",
        "df = pd.DataFrame(df)\n",
        "df.to_csv()"
      ],
      "metadata": {
        "colab": {
          "base_uri": "https://localhost:8080/",
          "height": 964
        },
        "id": "_6HbwKLCyrHA",
        "outputId": "4227d6c5-542e-4940-fa0a-0d4c5b408359"
      },
      "execution_count": null,
      "outputs": [
        {
          "output_type": "stream",
          "name": "stdout",
          "text": [
            "error with camp+chef\n",
            "error with mr.+bar-b-q\n",
            "error with traeger\n",
            "error with ams+fireplace,+inc\n",
            "error with camp+chef\n",
            "error with mr.+bar-b-q\n",
            "error with traeger\n",
            "error with yeti\n",
            "error with newair\n",
            "error with telescope+casual\n",
            "error with ow+lee\n",
            "error with woodward+furniture\n",
            "error with whitehall+products\n",
            "error with authenteak+outdoor+furniture\n",
            "error with polywood+furniture\n",
            "error with kartell\n",
            "error with restoration+hardware\n",
            "error with crate+and+barrel\n",
            "error with badcock+home+furnishings\n",
            "error with city+furniture\n",
            "error with mathis+brothers\n",
            "error with ikea+holdings+us+inc\n",
            "error with home+depot+(stylewell+++home+decorations+products)\n",
            "error with noble+house\n",
            "error with gorilla+grow+tent\n",
            "error with best+choice+products+tent\n",
            "error with ams+fireplace,+inc\n",
            "error with camp+chef\n",
            "error with mr.+bar-b-q\n",
            "error with traeger\n",
            "error with nomad+grills+llc\n",
            "error with mr+bar-b-q+products+llc\n",
            "error with shriro+holdings\n",
            "error with berghoff\n",
            "error with flame+king\n",
            "error with cliq+products,+llc\n",
            "error with sparc+group\n",
            "error with byer+of+maine\n",
            "error with sunvilla+beach\n",
            "error with caravan+canopy\n",
            "error with shelterlogic\n",
            "error with gci\n",
            "error with ecoflow\n",
            "error with anker\n",
            "error with firman+power+equipment+\n"
          ]
        },
        {
          "output_type": "execute_result",
          "data": {
            "text/plain": [
              "',name,employees,followers,description\\n0,blue+rhino,288,3909,\"Blue Rhino is America\\'s #1 brand of propane exchange. We launched Americaâ\\x80\\x99s first branded propane tank exchange service in 1994, and today we are still working to create those special moments in backyards, patios, and homes.\\\\n\\\\nBased in Winston Salem, NC, Blue Rhino is available at more than 58,000 retail locations in 50 states and Puerto Rico. We are a proud brand of Ferrellgas, an industry propane leader fueling what matters to you: home, business, agricultural, and fleet. \\\\n\\\\nWe still love those rhinos, and we love grilling too! Blue Rhino sponsors Bowling for Rhinos, a rhino conservation charity. We also support Operation Barbecue Relief, a charity of competition chefs who serve grilled food and hope in disaster areas, fight hunger, and serve the military and first responders.\\\\n\\\\nBlue Rhino - It\\'s not just propane!Â®\\\\n\\\\nFor more information, visit BlueRhino.com.\"\\n1,lynx+grills,45,1527,\"With ease of use and intuitive controls, Lynx luxury outdoor appliances provide unrivaled performance and user experience. It\\'s no surprise that Lynx is loved by the culinary community. With exclusive, industry-leading features, Lynx products will delight any culinary enthusiast.\\\\n\\\\nLynx Grills is a subsidiary of Middleby Corporation. The Middleby Corporation is a world leader in three business segments: commercial cooking, industrial baking and processing and residential appliances. Lynx Grills is part of the Middleby Corporation Residential Luxury Portfolio.\"\\n2,coyote,3137,75121,\"Coyote Logistics is a leading global third-party logistics provider that matches more than 10,000 shipments every day. Founded in 2006, Coyote was created with one goal in mind: create a better service experience in the transportation industry. Our commitment to providing visibility and reliability to our customers separated us from other providers, raising industry standards for both service metrics and customer satisfaction.\\\\n\\\\nNorth American website: www.coyote.com\\\\nEuropean website: www.coyotelogistics.com\\\\n\\\\nWe became a UPS company in 2015, adding UPS asset utilization, air &amp; ocean freight forwarding, and more to our expanding portfolio of services. As the supply chain market adapts to match higher customer expectations and evolving technologies, so do we. Our fundamental mission remains the same: to do the right thing, for every customer and every opportunity â\\x80\\x94 no matter the market condition.\\\\n\\\\n-             70,000 network carriers\\\\n-             10,000 loads per day \\\\n-             14,000 valued shippers\\\\n-             3,000 employees\\\\n-             20 offices worldwide\\\\n\\\\nCoyote reserves the right to hide or delete comments and direct messages that we deem violate our social media guidelines. Upon multiple occurrences of guidelines violation, Coyote reserves the right to revoke a userâ\\x80\\x99s access to our page and content. For more information, email us at TalkToUs@Coyote.com.\\\\n\\\\n\"\\n3,blue+rhino,288,3909,\"Blue Rhino is America\\'s #1 brand of propane exchange. We launched Americaâ\\x80\\x99s first branded propane tank exchange service in 1994, and today we are still working to create those special moments in backyards, patios, and homes.\\\\n\\\\nBased in Winston Salem, NC, Blue Rhino is available at more than 58,000 retail locations in 50 states and Puerto Rico. We are a proud brand of Ferrellgas, an industry propane leader fueling what matters to you: home, business, agricultural, and fleet. \\\\n\\\\nWe still love those rhinos, and we love grilling too! Blue Rhino sponsors Bowling for Rhinos, a rhino conservation charity. We also support Operation Barbecue Relief, a charity of competition chefs who serve grilled food and hope in disaster areas, fight hunger, and serve the military and first responders.\\\\n\\\\nBlue Rhino - It\\'s not just propane!Â®\\\\n\\\\nFor more information, visit BlueRhino.com.\"\\n4,lynx+grills,45,1527,\"With ease of use and intuitive controls, Lynx luxury outdoor appliances provide unrivaled performance and user experience. It\\'s no surprise that Lynx is loved by the culinary community. With exclusive, industry-leading features, Lynx products will delight any culinary enthusiast.\\\\n\\\\nLynx Grills is a subsidiary of Middleby Corporation. The Middleby Corporation is a world leader in three business segments: commercial cooking, industrial baking and processing and residential appliances. Lynx Grills is part of the Middleby Corporation Residential Luxury Portfolio.\"\\n5,dansons+(pit+boss),215,5638,\"Dansons was founded in 1999 by Dan Thiessen and two of his sons, with the desire to turn the waste of sawmills into a reliable source of energy. Through widespread success in Canada, the US, and internationally, our company eventually went on to expand its product line from horse and animal bedding to pellet fuel and pellet fuel appliances, and more recently to industry-leading brands such as Louisiana Grills and Pit Boss Grills.\\\\nToday, Dansons is a best-in-class, global consumer goods corporation that is proudly family-owned and managed, with the reputation that fits the founders â\\x80\\x93 reliable, dependable, and honest. As the home of multiple award-winning, consumer-backed brands, we consistently strive for quality and customer satisfaction in every area of our business.\\\\nThanks to faithful leadership and team members, competitive industry-leading products, and our dedication to support our communities, we are thankful to continue our mission to deliver superior results with uncompromising integrity while honoring God and reinvesting in those in need.\"\\n6,wayfair,14557,256832,\"Wayfair is the destination for all things home: helping everyone, anywhere create their feeling of home. From expert customer service, to the development of tools that make the shopping process easier, to carrying one of the widest and deepest selections of items for every space, style, and budget, Wayfair gives everyone the power to create spaces that are just right for them.\"\\n7,igloo+products+corp,638,38050,\"Born from a modest metalworking shop back in 1947, Igloo has been instrumental in redefining how we live, work and play. What began with bringing clean water to the worksite quickly moved into super-functional, best in class ice chests. Igloo products made the family outdoor recreation movement of the 20th century possible. Suddenly, taking your kids camping on the weekend became easy and cross-country roadtrips became a summer vacation staple.\"\\n8,helen+of+troy+limited+(hydro+flask),137,22729,\"Hydro Flask is a Helen of Troy company.  To view job opportunities with Hydro Flask and all Helen of Troy companies, please visit the Helen of Troy company page:  https://www.linkedin.com/company/helen-of-troy/\\\\n\\\\nHydro Flask was founded in 2009, when we launched the first all-insulated bottle line-up into the market. From modest beginnings, we exploded with hydra- tion-loving fans everywhere to hit 1 million in sales by 2011. We now offer over 100 products across : hydration, coffee, beer, food and soft-goods. \\\\n\\\\nThrough it all, however, one thing remains clear: we are committed to bringing you unexpected refreshment, wherever your adventures take you. Join us on our mission to save the world from lukewarm.\"\\n9,costway,4,53,0\\n10,klein+tools,792,43193,\"Family-owned and operated since 1857, Klein Tools has provided professional tradespeople with tools and solutions that enable the highest levels of performance and safety.  We are driven to be the worldâ\\x80\\x99s most innovative and customer-centric, trade-focused tool company.   \\\\n\\\\nFor over 160 years, we at Klein Tools have worked hard to earn the trust and gain credibility with our customers by achieving world-class quality and on-time delivery standards.  \\\\n\\\\nOur teams are built to continuously develop and deliver innovative new products that solve problems for our customers. This has led to steady growth which Klein Tools continues to fuel through expansion of teams and capabilities.  \\\\n\\\\nQuality, Customer Obsession, Innovation, Teamwork, and Ownership make up the core of Klein Tools. These five distinguishing values define our companyâ\\x80\\x99s culture and how we operate as an organization.  We believe that these values set our business above others in our industry.   \\\\n\\\\nAt Klein Tools, we give you the opportunity to forge your career with an iconic brand, providing you the tools you need to drive your future!\\\\n\"\\n11,mohawk+industries,12956,81610,0\\n12,\"springs+window+fashions,+llc\",1331,9576,0\\n13,lloyd+flanders+woven+for+life,41,299,\"At Lloyd Flanders, we use state-of-the-art manufacturing processes and equipment combined with over 100 years of tradition and furniture knowledge to produce heirloom-quality furniture to be enjoyed for generations to come. With collections spanning from traditional to contemporary, over 500 fabrics, and the widest variety of natural wicker finishes available today, you can create the perfect customized look for any space.\"\\n14,tropitone,102,3160,\"A Leading manufacturer of hi-quality outdoor furniture and accessories for commercial and residential settings. Commercial products are sold direct to Resorts, Hotels, Multifamily, Country Clubs, Restaurants, Cruise Ships and Municipalities. Residential products are sold through specialty retailers throughout the US, Canada and abroad. Product mix includes outdoor: tables, chairs, chaise lounges, bar stools, umbrellas, fire pits and accessories â\\x80\\x94 everything to create an inviting outdoor space for commercial and residential settings.\\\\n\\\\na Brown Jordan Inc. Company\"\\n15,homecrest+outdoor+living,49,1336,\"The Homecrest brand was founded in 1953. Our outdoor patio furniture brand combines a rich history of quality and classic design with today\\'s demand for affordable luxury and versatile living. Homecrest is poised to build its future on consumer and contract needs, innovative new products and global opportunities. A comprehensive line of affordable luxury outdoor patio furniture is offered in our collections. Pieces include tables, fire pits, chairs, chaises, loveseats, sofas, ottomans bar and balcony stools/chairs stools featuring durable aluminum, steel, and cast frame construction. Products can be customized with an array of frame finish colors and fashionable fabric options. Tabletop options include metal, glass, granite and a broad selection of faux products. All products are made in Wadena, Minnesota. We are proud to be made in the USA.\"\\n16,windward+design+group,36,484,\"Windward Design Group has been crafting quality American made outdoor furnishings since 1991. Our goal is to provide customers with stylish and high quality products.\\\\n\\\\nWe can help transform any backyard, patio or deck into the ideal outdoor living space... perfect for relaxation or entertaining. Windward also offers many contract solutions for hospitality, resorts, restaurants, apartment, HOAs, clubs and so much more. All products are made to order.  \\\\n\\\\nCall your local sales representative or email info@windwarddesigngroup.com today for more information.\"\\n17,california+umbrella,27,1021,\"California Umbrella has been proud to serve you and your shade needs since 1946.  The world has changed so much in that time, but our commitment to excellence has only deepened. To meet the demands of the changing market, we have several devoted factories overseas with well over 1 million square feet of production space, all to serve your manufacturing needs. The vast array of options for OEMs, customization, and custom developed products that our capabilities allow for, can fulfill almost every need you may have for a shade product. Our experience in sourcing materials and fabrics is second to none, so we can provide you with more options, and greater capacity, to make even the most demanding projects seem simple. \\\\n\\\\n\\\\nIn addition to our manufacturing support, we operate a spacious fifty thousand square foot domestic warehouse and assembly center that can handle service and logistics for all your outbound orders, including smaller runs.  Our Main production goal is to be here to serve you when you need it, so our team is always ready to discuss a project or the details of your product and business needs. Our domestic warehouse program is all encompassing, giving you flexibility to plan and create.  Whether the project is just 1 Umbrella for a backyard bistro table, 200 umbrellas to a magnificent resort, or 200,000 umbrellas for a multi-national retailer, With California Umbrella, when it comes to shade, you can Relax, youâ\\x80\\x99re coveredâ\\x80¦\\\\n\"\\n18,harbor+freight,10334,1805,\"We\\'re a 45 year-old, $6.5 billion national tool retailer with the energy, enthusiasm, and growth potential of a start-up. We have over 1,300 stores in 48 states across the country and are opening several new locations every week. We offer our customers more than 7,000 tools and accessories, from hand tools and generators to air and power tools, from shop equipment to automotive tools. We provide our customers with the right tool for the right job at the right price, always delivering quality and value.\"\\n19,northern+tool,1371,109,0\\n20,knoll+furniture,1359,91381,0\\n21,durogreen+outdoor,11,76,\"Stylish. Sustainable, Sturdy.\\\\n\\\\nDuroGreen furniture is designed with care; paying attention to the smallest details.  Our furniture is functional, thoughtful, and will enhance your outdoor space.\\\\n\\\\nDuroGreen is committed to sustainable practices.  Our furniture is built with 95% recycled HDPE lumber. All of the milk jugs and detergent containers you throw into your recycling bins are made into beautiful Adirondacks, rockers, dining sets, and tables.\\\\n\\\\nDuroGreen furniture is strong.  It is able to stand up to the elements.  Storms, hail, wind, moisture, insects, changing seasons?  They have nothing on us!\\\\n\\\\nFrom the beach to the barbecue, DuroGreen offers the furniture you need with the style and quality you want. When choosing Durogreen for your outdoor furniture, youâ\\x80\\x99re choosing a green-certified product thatâ\\x80\\x99s perfectly designed for comfort and style. Our large selection of chairs and tables are available in many colors and collections to complement your outdoor living area. \"\\n22,keter+furniture,1278,283,\"Keter is a global leader in the creation of high-quality, durable lifestyle solutions for in and around the home. Designing with the most innovative technologies and building with sustainable materials, Keter provides a wide range of outdoor furniture, home storage and organization products that enhance people\\'s spaces and elevate their daily experiences. With a history spanning over 70 years and distribution in more than 100 countries, Keter is constantly looking for ways to solve for the needs of today while designing for tomorrow.\\\\n \\\\nFor more information, visit keter.com. \\\\n\"\\n23,noble+house+home+furnishings,178,5855,\"Noble House Home Furnishings has been in the furniture industry for over 20 years, and almost 10 in e-commerce. From indoor furnishings for any room to large outdoor sofa sets, we are continuously updating our wide and diverse range of products, designing more than 100 new items and styles on a monthly basis. With the ability to ship thousands of orders per day, we pride ourselves on efficient and quick fulfillment. Offering several brands, including Christopher Knight Home, Noble House is always ahead of the trends and market, making us a dominant force in the furniture industry.\"\\n24,\"ningbo+nuu+garden+outdoor+products+co.,ltd\",18,94,\"Welcome to NUU GARDEN, a world of new concept outdoor living. \\\\nNUU GARDEN is the allusion of natural beauty of garden and the matching refined outdoor items which are created to make your garden ever new and comfortable.\\\\nAs an enterprise committed to R&amp;D innovation, we began with passion, imagination and action.                            There are rich superior design elements could be found from our range, which finally makes the products unique, stylish and outstanding. It is highly exciting to create the most refined, diverse choice of outdoor collections to offer a perfect blend of visual enjoyment and perfect functionality experience.\\\\nIt grows deep in our mind:The style starts the sales, but quality makes the sales ever-lasting.                                   Design is the core value what we are pursuing, but we are on the same way of seeking after the right quality.                       The finest material, advanced facilities, experienced craftsmen, expertised engineers, strictly-trained QC team all contribute to our high standard products.\\\\nThe corporate headquarter is established in Houston,USA with over 100,000 square feet office &amp; warehouse area. The after-sale center is set there as well with a professional team for after-care service. Our customers could be offered with any after-sales help and support whenever necessary. The global sourcing office is located in the famous coastal city- Ningbo in China, along with its own photography studio and spacious showroom. \\\\nWant to join us and be a dealer? Call us 00000000 or directly order from our online store www.nuugarden.com. \\\\nTry it, youâ\\x80\\x99ll see Life could always be refreshed by NUU GARDEN outdoor living!\"\\n25,pier+1+imports,5307,31269,Pier 1 is now owed by REV. \\n26,rooms+to+go,3595,31406,\"In 1991, Rooms To Go started by opening two stores in Orlando, Florida, bringing to customers a new way to buy furniture - a simplified shopping experience, where every detail of a room package is coordinated by world-class designers, and then bundled to increase savings.\\\\n  \\\\nToday, we are over 7,500 employees strong, operating over 250 stores and 6 state-of-the-art distribution centers. We are the largest and fastest growing independent retail furniture company in America. We are continuing to grow and expand.  Last year, we broadened our furniture offerings to provide outdoor furniture. We are the industry leader in time-to-deliver, financing, product availability, and have the latest fashions and great designs. Simply put, we sell quality at a great price.\"\\n27,art+van+furniture,1222,17468,\"Art Van Furniture, LLC is the Midwest\\'s number one furniture and mattress retailer with 176 stores in 9 states operating under the following brands; Art Van Furniture, Art Van PureSleep, Scott Shuptrine Interiors, Levin Furniture , Wolf Furniture and Gardiner Wolf Furniture.  Founded in 1959, the company is headquartered in Warren, Michigan. \\\\n\\\\nThe founding philosophy was to provide the community with quality furniture at great prices with high standards of customer service and that belief continues six decades later.\\\\n\\\\nIn 2017, Art Van Furniture became a part of the Thomas H. Lee Partners, a private equity group based in Boston, MA. Art Van will continue to be The #1 Furniture Retailer in the Midwest and have a strong place in the community with the Art Van Charity Challenge and sponsorship of the Thanksgiving Parade in Detroit as the presenting sponsor.\\\\n\\\\nIf you are looking for challenge, growth, opportunity and a career in a fast-paced, customer-oriented company, youâ\\x80\\x99ve found what youâ\\x80\\x99re looking forâ\\x80¦.youâ\\x80\\x99ve found Art Van Furniture.\\\\n\\\\nCheck out our career opportunities at www.artvan.com/careers or send a resume to careers@artvan.com\"\\n28,havertys,1798,11543,\"Havertys began as a single store in downtown Atlanta in 1885. Today, with over 100 stores in 17 states, we have become one of the top retailers in the furniture industry. From modern and traditional, to rustic and eclectic, our wide range of styles, accessories and collections guarantee that we have something for everyone. We greatly value quality merchandise and continually seek to provide our customers with the highest caliber of product by ensuring that each piece of Havertys furniture is made exclusively for our brand. Our qualified associates and in-home designers offer expert tips and tools to make each customerâ\\x80\\x99s home a fashionable representation of their own unique personality and vision. Whether youâ\\x80\\x99re shopping online or in-store, we aim to provide a positive buying experience. Shopping with Havertys has everything to do with your commitment to excellence in style and we are dedicated to making sure every Havertys customer is a happy customer.\"\\n29,ethan+allen,2390,20625,\"Ethan Allen embodied the American pioneer spirit, and his spirit is in our DNA. We were the first furniture retailer to offer furniture gallery showrooms and complimentary interior design service. Our inventive spirit is most evident in the extraordinary range of styles we offer. We have endless fabric, finish, and customization optionsâ\\x80\\x94because every detail matters when you\\'re expressing who you are and what you value. \\\\nSpeaking of values, we\\'re leaders in environmentally sustainable manufacturing and operations, investing in our communities by manufacturing approximately 75 percent of our products in North America. Products that aren\\'t made in North America are made by some of the finest local artisans around the globe.\\\\nIf this sounds like you, you\\'ll feel right at home at Ethan Allen.\\\\nâ\\x80¢\\\\tYou have a passion for beautiful craftsmanship and design, a drive for excellence, and outstanding communication and listening skills.\\\\nâ\\x80¢\\\\tYou take pride in offering outstanding service, and you love to work with people as much as you love to work with fabrics and finishes or facts and figures.\\\\nâ\\x80¢\\\\tYou want to build a career you love while working with creative, innovative, and inspiring people from all kinds of backgrounds.\\\\nSign up for job alerts at ethanallen.com/careers. It\\'s a beautiful thing when a passion and a career come together.\\\\n\"\\n30,living+spaces,1405,30664,\"Living Spaces is a home furnishing brand with stores expanding throughout the United States in addition to a robust online presence. Living Spaces not only sells an impressive assortment of furniture and accessories, we also stir the imagination and inspire great design - both home and beyond.\\\\n\\\\nWe believe that a great Team member experience leads to an even better guest experience. That is why we place a huge emphasis on building an incredible culture within our teams. Now is the time to take advantage of the incredible opportunity to become a Team member at Living Spaces. We know that your contribution has the ability to transform lives, both inside and outside our locations. Living Spaces is not just a job; it is a place to change, grow and influence those around you.\\\\n\\\\nCome join the journey with us!\"\\n31,la-z-boy+inc,2462,30824,0\\n32,ashley+furniture+industries,7350,66959,\"Ashley Furniture Industries, LLC. (Ashley) is the largest furniture manufacturer in the United States and one of the largest in the world. Established in 1945, Ashley offers one of the industryâ\\x80\\x99s broadest product assortments to retail partners in 123 countries. From design through fulfillment, Ashley continuously strives to provide our customer with the best values, selection and service in the furniture industry.\\\\n\\\\nWe are passionate about every piece of furniture we build, from the finest detail to the largest idea. From the moment we conceive of a design, to the point that our furniture is produced in our world class manufacturing operations, and ultimately packaged, delivered and accepted into the home -â\\x80\\x93 we aim for complete satisfaction.\\\\n\\\\nOur Vision and Mission:\\\\nWe want to be the Best Furniture Company\\\\n\\\\nImprove Quality\\\\nReduce Cost\\\\nDo More Business \\\\nBe Profitable\\\\nStay in Business\"\\n33,klaussner+furniture+group,272,3585,\"Since 1963, Klaussner Home Furnishings has been the leading solutions provider to the furniture industry. Our mission is simple: to provide value-driven product, constant innovation, speed-to-market and total customer satisfaction. Through strategic acquisitions, domestic and overseas partnerships and state-of-the-art inventory control and manufacturing/shipping options, Klaussner has created a vertically integrated furniture powerhouse with one of the fastest delivery times in the industry. Asheboro, North Carolina is home for 10 manufacturing plants, one warehouse and one distribution facility as well as the companyâ\\x80\\x99s corporate headquarters.\\\\r\\\\n\\\\r\\\\nWith Klaussnerâ\\x80\\x99s many product lines, consumers can choose from upholstery (fabric and leather), reclining furniture, bedroom, dining room, occasional tables, memory foam bedding and now our new Klaussner Outdoor line.\\\\r\\\\n \\\\r\\\\nFrom the beginning, Klaussner has prided itself in its quick delivery and custom order capabilities. In order to provide quicker delivery times and to better serve its customers, the company formed a strategic plan to make its manufacturing facilities in North Carolina to function as Service Centers providing a network of facilities to house and produce goods. This allows the company to provide one of the fastest delivery times in the industry.\"\\n34,suncast,3,3741,\"SunCast is a media and consulting business focused on renewable energy. We deliver high-quality and thoughtful segment-tailored content via podcast, blog and social media engagement, and we help others do the same.\\\\n\\\\nThe SunCast podcast, with over 50,000 downloads, has interviewed some of the Solar and Cleantech industry\\'s most successful Founders and Executives, and is a leading podcast on those topics.\"\\n35,e-z+up,99,2794,\"International E-Z UP, Inc. is the Original and still #1 provider of Instant ShelterÂ® products and accessories worldwide.\\\\n\\\\nBACKGROUND:\\\\nE-Z UP invented the portable pop-up shelter nearly 40 years ago and has evolved into a thriving international business built on a reputation for innovation, quality, and outstanding service.\\\\n\\\\nLEADERSHIP:\\\\nHeadquartered in California, E-Z UP serves customers in over 100 countries and is trusted by over 60% of Fortune 500 companies, including 9 of the top 10 brands.\\\\n\\\\nE-Z UP offers an extensive line of instant portable shelters, tables, flags, banners, and accessories, most of which can be fully customized with our award-winning digital printing and state-of-the-art manufacturing process.\\\\n\\\\nQUALITY:\\\\nE-ZUP maintains an absolute commitment to quality in materials and craftsmanship, realized by a team of dedicated employees that create the finest shelter products on the market today. Our rigorous quality control process ensures that each shelter meets exacting standards for printing fidelity and manufacturing quality.\\\\n\\\\nCUSTOMIZATION:\\\\nE-Z UP\\'s cutting-edge digital printing process is precise and fast, allowing our customers to create more complex graphics to promote their brand and business. Our award-winning printing process produces rich and vibrant graphics on premium materials that are designed to last for years.\"\\n36,encore+seating,6,902,\"Raising the benchmark in design, comfort and quality, Encore is a leading provider of contemporary options-oriented seating and table products for a host of applications, ranging from corporate offices to educational institutions, hospitality, healthcare facilities and more.\\\\r\\\\n \\\\r\\\\nWith a focus on flexibility and personalized attention, we strive to provide innovative solutions for ever-changing requirements and deliver outstanding service for our customers every time, offering standard lead-times of five weeks or less, an extensive Quick-Ship program, as well as partnerships with some of the most widely recognized textile manufacturers in the industry.\\\\r\\\\n \\\\r\\\\nSharing strong organizational ties to our parent company, Arcadia, we are able to draw upon an established knowledge base of product design, engineering, sales and service, all the while maintaining competitive pricing and a comprehensive warranty on all products.\\\\r\\\\n \\\\r\\\\nEncoreâ\\x80\\x99s assured manufacturing capability, enduring commitment to new product development and responsive approach to customer service have solidified our reputation as a leader in the contract furniture industry.\"\\n37,intex+recreation+corp.,132,7772,\"Intex Recreation Corp. distributes airbeds, above ground pools, spas, toys, furniture, boats and more. Weâ\\x80\\x99re part of a worldwide family of companies with more than 50 years of history behind us.\\\\n\\\\nOur objective is to deliver the highest quality products at an affordable price, all designed for comfort, safety and fun. Weâ\\x80\\x99re proud to bring you outstanding merchandise with impeccable customer service.\\\\n\\\\nOur vision is to be the most recognizable, trusted and innovative company in our industry. We routinely test finished products to make sure they meet our elevated standards for quality, safety and value.\\\\n\\\\nWe\\'re also committed to decreasing our carbon footprint. For over 10 years, we\\'ve worked with our supplier to reduce the amount of fossil fuels used.\"\\n38,tentandtable,32,248,\"For more than 35 years, Tent And Table has been in business setting up, delivering and distributing commercial-grade bounce houses and equipment. Headquartered in Buffalo, NY, we are passionate about helping small rental businesses grow by providing great products and personal insight to the industry.\\\\n\\\\nWe offer a variety of wedding tents, which include pole tents and frame tents with banquet chairs and banquet tables. If you\\'re looking for entertainment our inflatables line includes a variety of bounce house inflatables and water slide inflatables with commercial inflatable blowers available in a variety of sizes to meet all your needs. \\\\n\\\\nWhy should you buy from us? It is simple: We are not only in the business, we are in business for you!\"\\n39,blue+rhino,288,3909,\"Blue Rhino is America\\'s #1 brand of propane exchange. We launched Americaâ\\x80\\x99s first branded propane tank exchange service in 1994, and today we are still working to create those special moments in backyards, patios, and homes.\\\\n\\\\nBased in Winston Salem, NC, Blue Rhino is available at more than 58,000 retail locations in 50 states and Puerto Rico. We are a proud brand of Ferrellgas, an industry propane leader fueling what matters to you: home, business, agricultural, and fleet. \\\\n\\\\nWe still love those rhinos, and we love grilling too! Blue Rhino sponsors Bowling for Rhinos, a rhino conservation charity. We also support Operation Barbecue Relief, a charity of competition chefs who serve grilled food and hope in disaster areas, fight hunger, and serve the military and first responders.\\\\n\\\\nBlue Rhino - It\\'s not just propane!Â®\\\\n\\\\nFor more information, visit BlueRhino.com.\"\\n40,lynx+grills,45,1527,\"With ease of use and intuitive controls, Lynx luxury outdoor appliances provide unrivaled performance and user experience. It\\'s no surprise that Lynx is loved by the culinary community. With exclusive, industry-leading features, Lynx products will delight any culinary enthusiast.\\\\n\\\\nLynx Grills is a subsidiary of Middleby Corporation. The Middleby Corporation is a world leader in three business segments: commercial cooking, industrial baking and processing and residential appliances. Lynx Grills is part of the Middleby Corporation Residential Luxury Portfolio.\"\\n41,dansons+(pit+boss),215,5638,\"Dansons was founded in 1999 by Dan Thiessen and two of his sons, with the desire to turn the waste of sawmills into a reliable source of energy. Through widespread success in Canada, the US, and internationally, our company eventually went on to expand its product line from horse and animal bedding to pellet fuel and pellet fuel appliances, and more recently to industry-leading brands such as Louisiana Grills and Pit Boss Grills.\\\\nToday, Dansons is a best-in-class, global consumer goods corporation that is proudly family-owned and managed, with the reputation that fits the founders â\\x80\\x93 reliable, dependable, and honest. As the home of multiple award-winning, consumer-backed brands, we consistently strive for quality and customer satisfaction in every area of our business.\\\\nThanks to faithful leadership and team members, competitive industry-leading products, and our dedication to support our communities, we are thankful to continue our mission to deliver superior results with uncompromising integrity while honoring God and reinvesting in those in need.\"\\n42,magma+grills,14,2020,\"Magma Products, LLC is a company based out of 3940 Pixie Ave, Lakewood, CA 90712, United States.\"\\n43,food52,165,26052,\"Food52 is a next-generation cooking and home company that was named one of the worldâ\\x80\\x99s most innovative companies by Fast Company in 2022, with a monthly reach of more than 30 million people. From the beginning, the brand challenged the models of traditional media companies and retailers, combining content, commerce, and community around the belief that the kitchen is the heart of the home and food is the center of a well-lived life. Food52 connects a global community of experts and amateurs, supporting them with inspirational, useful content â\\x80\\x94 recipes, videos, podcasts, cookbooks and more â\\x80\\x94 and outfitting them with products that make them happy. In addition to a highly curated Shop representing hundreds of makers, the Food52 community of brands includes its in-house product line Five Two, lighting and lifestyle goods company Schoolhouse, and the heritage home brand DANSK.\"\\n44,nexgrill,64,4586,\"Nexgrill Industries, Inc. established a sales and merchandising office in California in 1993. We started with the initial concept, of supplying the finest Indoor and Outdoor Furniture, Seasonal Products, and Hardware Products. Today, we are a leading global producer of gas and charcoal grills and grill accessories. We design and market an extensive line of high-quality grills under the Nexgrill and KitchenAid brands, as well as OEM products for several global retail partners. \\\\n\\\\nNexgrill is headquartered in Chino, California, and has experienced significant growth over the past five years. Additionally, we have offices in Taiwan, Hong Kong, South Africa, along with manufacturing in Mainland China. \\\\n\\\\nFor more detailed company information visit http://www.nexgrill.com.\\\\n\"\\n45,picnic+time+family+of+brands,49,26,\"Living life to the fullest is more than just a phrase. Itâ\\x80\\x99s a part of everything we do. At Picnic Time, we are dedicated to the design and development of unique products that bring family and friends together. Picnic Time is more than just picnic; our wide array of outdoor leisure, indoor entertaining, and barware concepts set the stage for countless unforgettable occasions and inspire memories that will last a lifetime.\"\\n46,kalamazoo+gourmet,46,2716,\"For more than a century, Kalamazoo has been rooted in a tradition of quality American craftsmanship and innovation. From outdoor kitchen design and construction to customer service, we set the bar for industry excellence. Weâ\\x80\\x99re driven by a relentless passion for innovation and a fiercely independent design philosophy. This drive to establish new levels of performance, aesthetics and functionality brought the Hybrid Fire Grill to life, and while itâ\\x80\\x99s still considered the worldâ\\x80\\x99s best gas grill, we continue to look for ways to improve it. We never rest. Thatâ\\x80\\x99s the Kalamazoo Outdoor Gourmet way. Itâ\\x80\\x99s what sets us apart.\\\\n\\\\nAt Kalamazoo, we work with professionals and homeowners to create the most beautiful and capable outdoor kitchens in the world. Each product is designed for extraordinary performance, then hand-welded and hand-finished in Michigan to our exacting standards by expert artisans who have spent a lifetime honing their skills. \\\\n\\\\nOur commitment to exceptional design is at the core of everything we do. At Kalamazoo, weâ\\x80\\x99re proud to partner with the design community on projects around the globe. Our team of experts offers extensive support at every stage. From space planning and equipment selection to CAD drawings and specifications, we ensure the process runs smoothly from design through installation. Kalamazooâ\\x80\\x99s support doesnâ\\x80\\x99t end there. From comprehensive product warranties to unparalleled customer service, we strive to assure enjoyment for years to come.\"\\n47,camco+manufacturing,294,6646,\"Camco Manufacturing started in 1966 with one employee and one product. Today, over 50 years later, we have more than 350 employees, over 4,000 products and multiple manufacturing facilities in the USA and across the globe. Our wide range of products covers everything you could possibly need for your RV, campsite, ATV, UTV, boat or tailgate to spend time outdoors in comfort and style. Competitive pricing, superior service, quality products and customer satisfaction are the foundations upon which Camco operates. Our friendly, knowledgeable customer service staff stands ready to assist our customers with any questions. At Camco, we take pride in meeting the ever-changing demands of a challenging marketplace while serving you, our most valuable asset.\"\\n48,mountain+warehouse,1280,15373,\"Established in 1997, Mountain Warehouse has grown rapidly to become the largest Outdoor Retailer in the UK, with 400+ stores worldwide and strong online sales both in the UK and Internationally.\\\\n\\\\nTo keep us on the cutting edge of the outdoor world we are always on the lookout for talented, enthusiastic people from all walks of life who love to be part of a fast paced team. If you embrace hard work, love change and strive to always make things bigger and better then come join us.\\\\n\\\\nWe have a vibrant, busy office full of great people. There are loads of opportunities to get involved in projects away from your day to day and plenty of opportunity for growth across all departments. If you think you have what it takes to join the Mountain Warehouse adventure check out our Current Vacancies.\"\\n49,olpr.+leather+goods,29,2890,\"Portland Leather Goods is a start-up company founded in 2015. Since our humble beginnings inside the owner\\'s garage, we have expanded to a stunning, sunlit warehouse in South East Portland. Our team is diverse, funny, smart &amp; and ridiculously talented. Our days are filled with coffee, jokes, great music, shop pups, and of course, custom making leather durables that we have delivered around the world. We sell our handmade, quality leather goods all around the world.\"\\n50,jackery,40,1995,\"Established in 2012, Jackery designs, develops and manufactures portable power and energy solutions. Jackery was co-founded by a former Apple senior engineer and CEO Z. Sun, a pioneer in the design and development of Li-battery technology with over 17 yearsâ\\x80\\x99 experience. We developed a battery jacket for the Apple iPhone, which gave birth to our brand name, Jackery. \\\\n\\\\nOur Safety by Design philosophy is our promise of a safe, environmentally-friendly, portable solution. We have earned the trust of millions of customers that take Jackery mobile chargers on their journey to work or play. Our innovative energy storage products have earned multiple awards and we continue to develop energy solutions to power life experiences.\\\\n\"\\n51,\"vornado+air,+llc\",102,1009,\"The Vornado brand began earning the trust of its customer in 1940s by making air circulation products that worked differently, and better. Today, Vornado continues that legacy of trust one innovation at a time.\\\\r\\\\n\\\\r\\\\nThe same revolutionary thinking that created a superior fan has been poured into every aspect of Vornado\\'s offerings today. Vornado offers Air Circulators, Whole Room Heaters, Air Purifiers, Humidifiers and Steam Task Tools to the discerning customer who is concerned about performance, longevity and service.\\\\r\\\\n\\\\r\\\\nFrom our Andover headquarters, American engineers innovate, and American workers painstakingly research, build, test then deliver. Year after year, customers can expect to see the most progressive Vornado products ever introduced â\\x80\\x94 but amid all of this innovation, one thing will never change; Vornado will forever stand for unmatched performance, continuing its legacy as a Leader In air flow technology.\"\\n52,marley+engineered+products,138,6810,\"Marley Engineered ProductsÂ® draws upon a long history of providing reliable comfort heating and ventilation solutions. \\\\r\\\\n\\\\r\\\\nOur Locations:\\\\r\\\\nâ\\x80¢\\\\tManufacturing facility in Bennettsville, SC\\\\r\\\\nâ\\x80¢\\\\tAdministrative office in Burr Ridge, IL\\\\r\\\\nâ\\x80¢\\\\tRegional Sales Offices across the United States\\\\r\\\\n\\\\r\\\\nOur Brands:\\\\r\\\\nâ\\x80¢\\\\tQMarkÂ®\\\\r\\\\nâ\\x80¢\\\\tBerkoÂ®\\\\r\\\\nâ\\x80¢\\\\tFahrenheatÂ®\\\\r\\\\nâ\\x80¢\\\\tLeading EdgeÂ®\\\\r\\\\n\\\\r\\\\nOur Products:\\\\r\\\\nâ\\x80¢\\\\tCustom Electric Heat Solutions\\\\r\\\\nâ\\x80¢\\\\tBaseboards\\\\r\\\\nâ\\x80¢\\\\tInfrared Heaters\\\\r\\\\nâ\\x80¢\\\\tPortable Heaters\\\\r\\\\nâ\\x80¢\\\\tUnit Heaters\\\\r\\\\nâ\\x80¢\\\\tWall Heaters\\\\r\\\\nâ\\x80¢\\\\tWashdown/Explosion Proof Heaters\\\\r\\\\nâ\\x80¢\\\\tVentilation Solutions\\\\r\\\\n\\\\r\\\\nOur Installations:\\\\r\\\\nâ\\x80¢\\\\tHomes\\\\r\\\\nâ\\x80¢\\\\tOffices\\\\r\\\\nâ\\x80¢\\\\tSchools\\\\r\\\\nâ\\x80¢\\\\tRestaurants\\\\r\\\\nâ\\x80¢\\\\tHotels\\\\r\\\\nâ\\x80¢\\\\tSports Arenas\\\\r\\\\nâ\\x80¢\\\\tManufacturing Plants\"\\n53,pinnacle+climate+technologies,53,1409,\"Pinnacle Climate Technologies, Inc. was born in 2015 when Pinnacle Products International acquired Schaefer Ventilation Equipment, bringing together industry-leading solutions in heating, cooling, and ventilation. As a result, Pinnacle Climate Technologies became home to brands that are recognized worldwide for reliability, durability, and innovation.\\\\n\\\\nOur brands, both young and mature, now have 65 years of experience to draw upon as they optimize manufacturing efficiency, perfect distribution, and lead the industry. And with that, weâ\\x80\\x99re now able to innovate faster and more effectively to deliver the highest-quality products to the marketplace.\"\\n54,lasko,390,6220,\"Lasko\\'s mission is to improve everyday life with trusted products which create a healthier and more comfortable environment.\\\\n\\\\nLaskoâ\\x80\\x99s FIve Core Values include Be Bold, Be Together, Be A Leader, Be Accountable, Be The Change.\\\\n     â\\x80¢\\\\tBe Bold â\\x80\\x93 Challenge the status quo, Courageously pursue the impossible, \\\\n        Reject mediocrity\\\\n     â\\x80¢\\\\tBe Together â\\x80\\x93 Work together for success, Drive trust and candor with each \\\\n        other, Prioritize â\\x80\\x9cWeâ\\x80\\x9d before â\\x80\\x9cIâ\\x80\\x9d\\\\n     â\\x80¢\\\\tBe A Leader - Lead with personal conviction, Inspire each other to deliver \\\\n        high-quality results, Leverage resilience and agility to drive excellence\\\\n     â\\x80¢\\\\tBe Accountable â\\x80\\x93 Consistently deliver to our customers, Embrace \\\\n        commitments as a contract, Take pride in our actions\\\\n     â\\x80¢\\\\tBe The Change - Demonstrate a passion to win, Make a difference at work \\\\n        and in our communities, Step forward and take initiative\\\\n\\\\nLasko has been engineering and building high-performance home comfort products in the U.S. and worldwide for more than 100 years. This American company has grown to an international organization and market leader in fans, ceramic heaters, and other home comfort products.\\\\n\\\\nWith domestic resources to service the market in season, Lasko collaborates with its accounts to maximize sales. Plus, the hallmarks of the product line â\\x80\\x93 performance, quality, and value â\\x80\\x93 make Lasko a consumer favorite.\\\\n\\\\nThe full product line of innovative portable fans, portable heaters, and humidifiers can be viewed at www.lasko.com.\"\\n'"
            ],
            "application/vnd.google.colaboratory.intrinsic+json": {
              "type": "string"
            }
          },
          "metadata": {},
          "execution_count": 100
        }
      ]
    },
    {
      "cell_type": "code",
      "source": [
        "pd.DataFrame(df).to_csv('backyard.csv')"
      ],
      "metadata": {
        "id": "iPwLCQIBSfi8"
      },
      "execution_count": null,
      "outputs": []
    },
    {
      "cell_type": "code",
      "execution_count": null,
      "metadata": {
        "colab": {
          "base_uri": "https://localhost:8080/"
        },
        "id": "xVulCkhpQQY1",
        "outputId": "ec66392c-9d47-4598-f4c3-2f98ef3fa08e"
      },
      "outputs": [
        {
          "output_type": "stream",
          "name": "stdout",
          "text": [
            "tesla\n",
            "58654\n",
            "Our mission is to accelerate the worldâs transition to sustainable energy. With global temperatures rising, the faster we free ourselves from fossil fuel reliance and achieve a zero-emission future, the better. \\n \\nIn pursuit of this mission, we make electric vehicles that are not just great EVs, but the best cars, period. We also produce and install infinitely scalable clean energy generation and storage products that help our customers further decrease their environmental impact. When it comes to achieving our goals, we pride ourselves in accomplishing what others deem impossible.\\n \\nWe are opening new factories and increasing our output everyday â join us in building a sustainable future.\n",
            "https://www.linkedin.com/company/tesla-motors\n"
          ]
        }
      ],
      "source": [
        "company = input()\n",
        "company = company.lower().replace(' ','+')\n",
        "headers = {'User-Agent': 'Mozilla/5.0 (Macintosh; Intel Mac OS X 10_14_6) AppleWebKit/537.36 (KHTML, like Gecko) Chrome/99.0.4844.83 Safari/537.36'}\n",
        "url_linked = 'https://www.google.com/search?q='+company+'+linkedin+page&oq=tractory+supply+linkedin+page'\n",
        "html = requests.get(url_linked, headers = headers, cookies = cookies).text\n",
        "soupcl = bs4.BeautifulSoup(html, \"html.parser\")\n",
        "\n",
        "gg = str(soupcl).split('<div class=\"yuRUbf\">')\n",
        "linked = []\n",
        "for xx in range(len(gg)-1):\n",
        "  xx = xx+1\n",
        "  if gg[xx].split('href=\"')[1].split('/company')[0]=='https://www.linkedin.com':\n",
        "    while len(linked)<=0:\n",
        "      linked.append(gg[xx].split('href=\"')[1].split('\"')[0])\n",
        "\n",
        "urln = linked[0]\n",
        "html = requests.get(urln, headers = headers, cookies = cookies).text\n",
        "soupcn = bs4.BeautifulSoup(html, \"html.parser\")\n",
        "\n",
        "namee = linked[0].split('company/')[1].split('-')[0][:1].upper()+linked[0].split('company/')[1].split('-')[0][1:]\n",
        "cid = str(soupcn).split(',\"$type\":\"com.linkedin.common.VectorImage\"}},\"name\":\"'+namee)[1].split('urn:li:fsd_followingState:urn:li:fsd_company:')[1].split('\"')[0]\n",
        "try:\n",
        "  follower_count = str(soupcn).split('\"preDashFollowingInfoUrn\":\"urn:li:fs_followingInfo:urn:li:company:'+cid)[1].split('\"followerCount\":')[1].split(',')[0]\n",
        "except:\n",
        "  follower_count = 0\n",
        "\n",
        "try:\n",
        "  employee_count = str(soupcn).split('\"url\":\"https://www.about'+linked[0].split('company/')[1]+'.com/\",')[0].split('\"employeeCount\":')[-1].split(',')[0]\n",
        "except:\n",
        "  employee_count = 0\n",
        "\n",
        "try:\n",
        "  description = str(soupcn).split('\"ALL_EMPLOYEES\"},\"croppedCoverImageUnion\":null,\"description\":\"')[1].split('\",\"')[0]\n",
        "except:\n",
        "  description = 0\n",
        "\n",
        "print(employee_count)\n",
        "print(description)\n",
        "print(linked[0])\n",
        "\n",
        "#story --> company id --> try: --> company id: followers -- while"
      ]
    },
    {
      "cell_type": "code",
      "source": [],
      "metadata": {
        "id": "1Ri5OqFO1dV8"
      },
      "execution_count": null,
      "outputs": []
    },
    {
      "cell_type": "code",
      "source": [],
      "metadata": {
        "id": "FHSBgBKF1dYS"
      },
      "execution_count": null,
      "outputs": []
    },
    {
      "cell_type": "code",
      "source": [],
      "metadata": {
        "id": "mNI9GZLa1da5"
      },
      "execution_count": null,
      "outputs": []
    },
    {
      "cell_type": "code",
      "source": [],
      "metadata": {
        "id": "TN6p56RX1ddg"
      },
      "execution_count": null,
      "outputs": []
    },
    {
      "cell_type": "code",
      "source": [],
      "metadata": {
        "id": "JFKOh-hXy7hq"
      },
      "execution_count": null,
      "outputs": []
    }
  ]
}